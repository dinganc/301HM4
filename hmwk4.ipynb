{
 "cells": [
  {
   "cell_type": "markdown",
   "metadata": {
    "collapsed": true
   },
   "source": [
    "# Discussion Exercise: Signed and Balanced Networks"
   ]
  },
  {
   "cell_type": "markdown",
   "metadata": {
    "collapsed": true
   },
   "source": [
    "For the first part of this exercise we will evaluate a pre-constructed network in NetworkX. Then we will code a function that can evaluate any given balanced network, returning groups of mutually antagonistic node allies."
   ]
  },
  {
   "cell_type": "markdown",
   "metadata": {},
   "source": [
    "### 0. Import Libraries\n",
    "(Eventually this will become second nature to you.)"
   ]
  },
  {
   "cell_type": "code",
   "execution_count": 1,
   "metadata": {
    "collapsed": true
   },
   "outputs": [],
   "source": [
    "# Our beloved NetworkX\n",
    "import networkx as nx\n",
    "# For visualization\n",
    "import matplotlib.pyplot as plt"
   ]
  },
  {
   "cell_type": "markdown",
   "metadata": {},
   "source": [
    "### 1. Concepts Exercise\n",
    "Consider the signed network shown below and answer the following questions.\n",
    "<img src=\"http://www-personal.umich.edu/~posch/si301/signed-network-example.PNG\">"
   ]
  },
  {
   "cell_type": "markdown",
   "metadata": {},
   "source": [
    "**Q1:** Can we apply the Balance Theorem to this network?"
   ]
  },
  {
   "cell_type": "code",
   "execution_count": null,
   "metadata": {
    "collapsed": true
   },
   "outputs": [],
   "source": [
    "#No because not completely connected"
   ]
  },
  {
   "cell_type": "markdown",
   "metadata": {},
   "source": [
    "**Q2:** Identify all complete subgraphs that are ***not*** part of a larger complete subgraph. Are they balanced, weakly balanced, or unbalanced?"
   ]
  },
  {
   "cell_type": "code",
   "execution_count": null,
   "metadata": {
    "collapsed": true
   },
   "outputs": [],
   "source": [
    "#lEFT AND RIGHT"
   ]
  },
  {
   "cell_type": "markdown",
   "metadata": {},
   "source": [
    "**Q3:** How would you change *exactly one* of the edge signs in each identified subgraph to make all identified subgraphs balanced? "
   ]
  },
  {
   "cell_type": "code",
   "execution_count": null,
   "metadata": {
    "collapsed": true
   },
   "outputs": [],
   "source": [
    "#CHANGE GF AND CD"
   ]
  },
  {
   "cell_type": "markdown",
   "metadata": {},
   "source": [
    "**Q4:**  For the resulting networks from question 3, find the two X and Y groups guaranteed by the balance theorem."
   ]
  },
  {
   "cell_type": "code",
   "execution_count": null,
   "metadata": {
    "collapsed": true
   },
   "outputs": [],
   "source": []
  },
  {
   "cell_type": "markdown",
   "metadata": {},
   "source": [
    "### 2. Coding Exercise\n",
    "NetworkX allows you to store attributes on the edges -- not just the nodes -- of a graph. We will use the **correctly balanced** graph A-B-C-D-E from above as an example of a signed graph. Each edge has a \"+\" or \"-\" for the attribute \"sign.\""
   ]
  },
  {
   "cell_type": "code",
   "execution_count": 2,
   "metadata": {
    "collapsed": true
   },
   "outputs": [],
   "source": [
    "# As always, initialize our new graph\n",
    "G = nx.Graph()"
   ]
  },
  {
   "cell_type": "code",
   "execution_count": 3,
   "metadata": {
    "collapsed": true
   },
   "outputs": [],
   "source": [
    "# Construct the *correctly balanced* subgraph from the right-hand side of the above example.\n",
    "# EDIT the appropriate sign value below to represent that subgraph\n",
    "G.add_edge(\"A\", \"B\", sign=\"-\")\n",
    "G.add_edge(\"A\", \"C\", sign=\"+\")\n",
    "G.add_edge(\"A\", \"D\", sign=\"+\")\n",
    "G.add_edge(\"A\", \"E\", sign=\"+\")\n",
    "G.add_edge(\"B\", \"C\", sign=\"-\")\n",
    "G.add_edge(\"B\", \"D\", sign=\"-\")\n",
    "G.add_edge(\"B\", \"E\", sign=\"-\")\n",
    "G.add_edge(\"C\", \"D\", sign=\"-\") \n",
    "G.add_edge(\"C\", \"E\", sign=\"+\")\n",
    "G.add_edge(\"D\", \"E\", sign=\"+\")"
   ]
  },
  {
   "cell_type": "code",
   "execution_count": 4,
   "metadata": {
    "collapsed": false
   },
   "outputs": [
    {
     "data": {
      "image/png": "[encoded data removed]",
      "text/plain": [
       "<matplotlib.figure.Figure at 0x118ff1b00>"
      ]
     },
     "metadata": {},
     "output_type": "display_data"
    }
   ],
   "source": [
    "nx.draw_networkx(G, with_labels=True)\n",
    "# Notice that edge values do not automatically display. \n",
    "# This is because we created an arbitrary attribute for them, called \"sign\", which is \n",
    "# not the same as a node's label, according to NetworkX.\n",
    "plt.show()"
   ]
  },
  {
   "cell_type": "markdown",
   "metadata": {},
   "source": [
    "#### Looping Over Neighbors\n",
    "The G.neighbors() function in NetworkX takes a node as its parameter and loops over all of its neighbors. Since balanced networks are \"complete,\" who should be the neighbors of node A?"
   ]
  },
  {
   "cell_type": "code",
   "execution_count": 5,
   "metadata": {
    "collapsed": false
   },
   "outputs": [
    {
     "name": "stdout",
     "output_type": "stream",
     "text": [
      "B\n",
      "C\n",
      "D\n",
      "E\n"
     ]
    }
   ],
   "source": [
    "for nd in G.neighbors(\"A\"):\n",
    "    print(nd)"
   ]
  },
  {
   "cell_type": "markdown",
   "metadata": {
    "collapsed": true
   },
   "source": [
    "#### Subscript Notation\n",
    "We can access the edge between any two nodes using with the following syntax:\n",
    "    \n",
    "    G.edge[node1][node2]\n",
    "\n",
    "Attributes can be accessed with an additional pair of brackets:\n",
    "\n",
    "    G.edge[node1][node2][attr]\n",
    "\n",
    "(Any node can likewise be accessed by `G.node[node1]` )"
   ]
  },
  {
   "cell_type": "code",
   "execution_count": 6,
   "metadata": {
    "collapsed": false
   },
   "outputs": [
    {
     "name": "stdout",
     "output_type": "stream",
     "text": [
      "A - B :  -\n",
      "A - C :  +\n",
      "A - D :  +\n",
      "A - E :  +\n"
     ]
    }
   ],
   "source": [
    "# Now we can use subscript notation to return the \"sign\" values of all edges\n",
    "for nd in G.neighbors(\"A\"):\n",
    "    print(\"A -\", nd, \": \", G.edge[\"A\"][nd][\"sign\"])"
   ]
  },
  {
   "cell_type": "markdown",
   "metadata": {},
   "source": [
    "#### Balance Theorem Categorizer"
   ]
  },
  {
   "cell_type": "markdown",
   "metadata": {},
   "source": [
    "Write a function that takes a complete balanced network with at least one negative edge as input and **outputs the two groups** of nodes guaranteed by the Balance Theorem. \n",
    "\n",
    "*That is, the function outputs two groups of nodes, X and Y, such that (i) a positive edge connects every pair of nodes in X; (ii) a positive edge connects every pair of nodes in Y; and (iii) a negative edge connects every pair of nodes, where one node is in X and the other is in Y. You can assume that the input graph is complete, balanced, and contains at least one negative edge.*\n",
    "\n",
    "Hint: If you have a correctly balanced network as input, this is easier than you might think."
   ]
  },
  {
   "cell_type": "code",
   "execution_count": 11,
   "metadata": {
    "collapsed": false
   },
   "outputs": [
    {
     "name": "stdout",
     "output_type": "stream",
     "text": [
      "Axis: ['B'] Allies: ['A', 'C', 'D', 'E']\n",
      "+\n"
     ]
    }
   ],
   "source": [
    "# Graph takes a complete graph as input, where each edge carries a \"sign\" value\n",
    "def balanced_grouping(graph):\n",
    "    # Just two groups of mutually antagonistic allies, historically labeled just for vividness\n",
    "    axis = []\n",
    "    allies = []\n",
    "    allies.append(\"A\")\n",
    "    for nd in G.neighbors(\"A\"):\n",
    "        if G.edge[\"A\"][nd][\"sign\"]=='-':axis.append(nd)\n",
    "        else: allies.append(nd)\n",
    "    # Determine the two groups. What can the Balance Theorem tell us to make our work easier?\n",
    "    # Use the graph.neighbors() function and pretend all graphs contain a node \"A\"\n",
    "\n",
    "\n",
    "    \n",
    "    \n",
    "    \n",
    "    print(\"Axis:\", axis, \"Allies:\", allies)\n",
    "    print (G.edge[\"A\"][\"D\"][\"sign\"])\n",
    "    \n",
    "balanced_grouping(G)"
   ]
  },
  {
   "cell_type": "markdown",
   "metadata": {},
   "source": [
    "#### Refresher: Looping Over Edges"
   ]
  },
  {
   "cell_type": "markdown",
   "metadata": {},
   "source": [
    "In last week's exercise, in order to analyze homophily, we looped over all nodes and edges in a graph."
   ]
  },
  {
   "cell_type": "markdown",
   "metadata": {},
   "source": [
    "    for nd in G.nodes():\n",
    "        # evaluate/modify each node, one by one\n",
    "\n",
    "    for edg in G.edges():\n",
    "        # evaluate/modify each edge, one by one"
   ]
  },
  {
   "cell_type": "markdown",
   "metadata": {},
   "source": [
    "(Note that variables `nd` and `edg` above were so named to reduce confusion with NetworkX special words \"node\" and \"edge\".)"
   ]
  },
  {
   "cell_type": "markdown",
   "metadata": {},
   "source": [
    "In terms of balanced networks, say you wanted to count the number of positive and negative edges. How would you do that?"
   ]
  },
  {
   "cell_type": "code",
   "execution_count": 17,
   "metadata": {
    "collapsed": false
   },
   "outputs": [
    {
     "name": "stdout",
     "output_type": "stream",
     "text": [
      "('A', 'B')\n",
      "('A', 'C')\n",
      "('A', 'D')\n",
      "('A', 'E')\n",
      "('B', 'C')\n",
      "('B', 'D')\n",
      "('B', 'E')\n",
      "('C', 'D')\n",
      "('C', 'E')\n",
      "('D', 'E')\n",
      "+,5\n",
      "-,5\n"
     ]
    }
   ],
   "source": [
    "number_of_positives = 0\n",
    "number_of_negatives = 0\n",
    "    \n",
    "for edg in G.edges():    \n",
    "    \n",
    "    if G.edge[edg[0]][edg[1]]['sign']==\"+\":number_of_positives+=1\n",
    "    else:number_of_negatives+=1\n",
    "print (\"+,\"+str(number_of_positives)+\"\\n-,\"+str(number_of_negatives))\n",
    "    \n",
    "\n",
    "# Now print the results"
   ]
  },
  {
   "cell_type": "markdown",
   "metadata": {},
   "source": [
    "#### Tip: Grabbing A Starter Node\n",
    "In the function `balanced_grouping` above we assumed each graph would have a node \"A\". What if we did not know the names of nodes in advance? We could just grab the first node from the G.nodes() function like this:\n",
    "\n",
    "    starter_node = G.nodes()[0]\n",
    "    \n",
    "Why again would any old node do equally well?"
   ]
  },
  {
   "cell_type": "code",
   "execution_count": null,
   "metadata": {
    "collapsed": true
   },
   "outputs": [],
   "source": [
    "#because it is a fully connected graph, loop over edges instead of signs because no knowlegde about which node to start"
   ]
  }
 ],
 "metadata": {
  "kernelspec": {
   "display_name": "Python 3",
   "language": "python",
   "name": "python3"
  },
  "language_info": {
   "codemirror_mode": {
    "name": "ipython",
    "version": 3
   },
   "file_extension": ".py",
   "mimetype": "text/x-python",
   "name": "python",
   "nbconvert_exporter": "python",
   "pygments_lexer": "ipython3",
   "version": "3.6.0"
  }
 },
 "nbformat": 4,
 "nbformat_minor": 2
}
