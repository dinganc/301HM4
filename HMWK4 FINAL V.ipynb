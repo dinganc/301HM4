{
 "cells": [
  {
   "cell_type": "code",
   "execution_count": 26,
   "metadata": {
    "collapsed": false
   },
   "outputs": [],
   "source": [
    "import networkx as nx\n",
    "G = nx.Graph()\n",
    "G1 = nx.Graph()\n",
    "G2 = nx.Graph()\n",
    "nodes = ['A', 'B', \"C\", \"D\", \"E\"]\n",
    "G.add_nodes_from(nodes)\n",
    "G1.add_nodes_from(nodes)\n",
    "G2.add_nodes_from(nodes)\n",
    "#Test A \n",
    "G.add_edge(\"A\",\"B\",sign=\"+\")\n",
    "G.add_edge(\"A\",\"C\",sign=\"+\")\n",
    "G.add_edge(\"A\",\"D\",sign=\"+\")\n",
    "G.add_edge(\"A\",\"E\",sign=\"+\")\n",
    "\n",
    "G.add_edge(\"B\",\"C\",sign=\"+\")\n",
    "G.add_edge(\"B\",\"D\",sign=\"+\")\n",
    "G.add_edge(\"B\",\"E\",sign=\"+\")\n",
    "\n",
    "\n",
    "G.add_edge(\"C\",\"D\",sign=\"+\")\n",
    "G.add_edge(\"C\",\"E\",sign=\"+\")\n",
    "\n",
    "\n",
    "G.add_edge(\"D\",\"E\",sign=\"+\")\n",
    "#Test B \n",
    "G1.add_edge(\"A\",\"B\",sign=\"+\")\n",
    "G1.add_edge(\"A\",\"C\",sign=\"+\")\n",
    "G1.add_edge(\"A\",\"D\",sign=\"+\")\n",
    "G1.add_edge(\"A\",\"E\",sign=\"-\")\n",
    "\n",
    "G1.add_edge(\"B\",\"C\",sign=\"+\")\n",
    "G1.add_edge(\"B\",\"D\",sign=\"+\")\n",
    "G1.add_edge(\"B\",\"E\",sign=\"-\")\n",
    "\n",
    "\n",
    "G1.add_edge(\"C\",\"D\",sign=\"+\")\n",
    "G1.add_edge(\"C\",\"E\",sign=\"+\")\n",
    "\n",
    "\n",
    "G1.add_edge(\"D\",\"E\",sign=\"+\")\n",
    "#Test C\n",
    "G2.add_edge(\"A\",\"B\",sign=\"-\")\n",
    "G2.add_edge(\"A\",\"C\",sign=\"-\")\n",
    "G2.add_edge(\"A\",\"D\",sign=\"+\")\n",
    "G2.add_edge(\"A\",\"E\",sign=\"+\")\n",
    "\n",
    "G2.add_edge(\"B\",\"C\",sign=\"+\")\n",
    "G2.add_edge(\"B\",\"D\",sign=\"-\")\n",
    "G2.add_edge(\"B\",\"E\",sign=\"+\")\n",
    "\n",
    "G2.add_edge(\"C\",\"D\",sign=\"+\")\n",
    "G2.add_edge(\"C\",\"E\",sign=\"-\")\n",
    "\n",
    "G2.add_edge(\"D\",\"E\",sign=\"-\")"
   ]
  },
  {
   "cell_type": "code",
   "execution_count": 27,
   "metadata": {
    "collapsed": false
   },
   "outputs": [
    {
     "data": {
      "text/plain": [
       "'Balanced Graph'"
      ]
     },
     "execution_count": 27,
     "metadata": {},
     "output_type": "execute_result"
    }
   ],
   "source": [
    "def checkba(gra):\n",
    "    for nd in gra.nodes():\n",
    "        tri_point=[]\n",
    "        EG1=\"\"\n",
    "        EG2=\"\"\n",
    "        EG3=\"\"\n",
    "        sign_list=[]\n",
    "        first_neighbors=[i for i in gra.neighbors(nd)]\n",
    "        for nd2 in first_neighbors:\n",
    "            second_neighbors=[j for j in gra.neighbors(nd2)]\n",
    "            for nd3 in second_neighbors:\n",
    "                if nd3 in first_neighbors:\n",
    "                    tri_point.append(nd)\n",
    "                    tri_point.append(nd2)\n",
    "                    tri_point.append(nd3)\n",
    "                    EG1=gra.edge[tri_point[0]][tri_point[1]][\"sign\"]\n",
    "                    EG2=gra.edge[tri_point[1]][tri_point[2]][\"sign\"]\n",
    "                    EG3=gra.edge[tri_point[0]][tri_point[2]][\"sign\"]\n",
    "                    sign_list.append(EG1)\n",
    "                    sign_list.append(EG2)\n",
    "                    sign_list.append(EG3)\n",
    "                    if EG1==EG2==EG3==\"-\":\n",
    "                        report=\"Not Balanced due to --- found {}{}{}\".format(nd,nd2,nd3)\n",
    "                        return report\n",
    "                        break\n",
    "                    if sign_list.count(\"-\")==1:\n",
    "                            if sign_list.count(\"+\")==2:\n",
    "                                report=\"Not Balanced due to ++- found {}{}{}\".format(nd,nd2,nd3)\n",
    "                                return report\n",
    "                                break\n",
    "                else:continue\n",
    "    return \"Balanced Graph\"\n",
    "checkba(G1)"
   ]
  },
  {
   "cell_type": "code",
   "execution_count": null,
   "metadata": {
    "collapsed": true
   },
   "outputs": [],
   "source": []
  }
 ],
 "metadata": {
  "kernelspec": {
   "display_name": "Python 3",
   "language": "python",
   "name": "python3"
  },
  "language_info": {
   "codemirror_mode": {
    "name": "ipython",
    "version": 3
   },
   "file_extension": ".py",
   "mimetype": "text/x-python",
   "name": "python",
   "nbconvert_exporter": "python",
   "pygments_lexer": "ipython3",
   "version": "3.6.0"
  }
 },
 "nbformat": 4,
 "nbformat_minor": 2
}
